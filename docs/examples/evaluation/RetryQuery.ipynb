{
 "cells": [
  {
   "attachments": {},
   "cell_type": "markdown",
   "metadata": {},
   "source": [
    "# Retry Query Engine"
   ]
  },
  {
   "cell_type": "code",
   "execution_count": 1,
   "metadata": {},
   "outputs": [],
   "source": [
    "# My OpenAI Key\n",
    "import os\n",
    "os.environ['OPENAI_API_KEY'] = \"INSERT OPENAI KEY\"\n",
    "\n",
    "# import logging\n",
    "# import sys\n",
    "\n",
    "# logging.basicConfig(stream=sys.stdout, level=logging.DEBUG)\n",
    "# logging.getLogger().addHandler(logging.StreamHandler(stream=sys.stdout))"
   ]
  },
  {
   "cell_type": "code",
   "execution_count": 3,
   "metadata": {},
   "outputs": [
    {
     "name": "stdout",
     "output_type": "stream",
     "text": [
      "Default query engine response: \n",
      "It is difficult to predict whether Uber's revenue will grow in the next year without more information. Factors such as the duration and severity of the COVID-19 pandemic, the ability to grow supply and demand on the platform, competition from other companies, and local regulations will all play a role in determining Uber's revenue growth.\n",
      "Query engine with retry response: \n",
      "It is difficult to predict whether Uber's revenue will grow in the next year. Factors such as the duration and severity of the COVID-19 pandemic, the ability to grow supply and demand on the platform, competition from other companies, and local regulations will all play a role in determining Uber's revenue growth. Additionally, the success of initiatives such as Uber One, Uber Pass, Eats Pass, and Rides Pass, as well as the ability to penetrate suburban and rural areas and increase the number of rides taken on the platform outside metropolitan areas, will also influence Uber's revenue growth.\n"
     ]
    }
   ],
   "source": [
    "from llama_index.indices.vector_store.base import GPTVectorStoreIndex\n",
    "from llama_index.query_engine.retry_query_engine import RetryQueryEngine\n",
    "from llama_index.readers.file.base import SimpleDirectoryReader\n",
    "\n",
    "uber_docs = SimpleDirectoryReader(input_files=[\"../data/10k/uber_2021.pdf\"]).load_data()\n",
    "index = GPTVectorStoreIndex.from_documents(uber_docs)\n",
    "query = \"Will Uber's revenue grow in the next year?\"\n",
    "\n",
    "# Default query engine\n",
    "query_engine = index.as_query_engine()\n",
    "response = query_engine.query(query)\n",
    "print(f\"Default query engine response: {response}\")\n",
    "\n",
    "# Query engine with retry\n",
    "query_engine = RetryQueryEngine.from_args(index.as_retriever(), check_source=False)\n",
    "response = query_engine.query(query)\n",
    "print(f\"Query engine with retry response: {response}\")"
   ]
  }
 ],
 "metadata": {
  "kernelspec": {
   "display_name": ".venv",
   "language": "python",
   "name": "python3"
  },
  "language_info": {
   "codemirror_mode": {
    "name": "ipython",
    "version": 3
   },
   "file_extension": ".py",
   "mimetype": "text/x-python",
   "name": "python",
   "nbconvert_exporter": "python",
   "pygments_lexer": "ipython3",
   "version": "3.11.0"
  },
  "orig_nbformat": 4
 },
 "nbformat": 4,
 "nbformat_minor": 2
}
